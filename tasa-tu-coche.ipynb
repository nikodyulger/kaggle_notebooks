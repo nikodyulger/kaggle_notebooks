{
 "cells": [
  {
   "cell_type": "code",
   "execution_count": 1,
   "id": "5f2a0a6f",
   "metadata": {
    "execution": {
     "iopub.execute_input": "2025-03-06T12:58:14.287525Z",
     "iopub.status.busy": "2025-03-06T12:58:14.287107Z",
     "iopub.status.idle": "2025-03-06T12:58:16.309620Z",
     "shell.execute_reply": "2025-03-06T12:58:16.308334Z"
    },
    "papermill": {
     "duration": 2.030661,
     "end_time": "2025-03-06T12:58:16.311723",
     "exception": false,
     "start_time": "2025-03-06T12:58:14.281062",
     "status": "completed"
    },
    "tags": []
   },
   "outputs": [],
   "source": [
    "import numpy as np\n",
    "import pandas as pd \n",
    "import plotly.express as px"
   ]
  },
  {
   "cell_type": "code",
   "execution_count": 2,
   "id": "20b82d0d",
   "metadata": {
    "execution": {
     "iopub.execute_input": "2025-03-06T12:58:16.322541Z",
     "iopub.status.busy": "2025-03-06T12:58:16.321788Z",
     "iopub.status.idle": "2025-03-06T12:58:16.326750Z",
     "shell.execute_reply": "2025-03-06T12:58:16.325511Z"
    },
    "papermill": {
     "duration": 0.011804,
     "end_time": "2025-03-06T12:58:16.328548",
     "exception": false,
     "start_time": "2025-03-06T12:58:16.316744",
     "status": "completed"
    },
    "tags": []
   },
   "outputs": [],
   "source": [
    "SEED = 42"
   ]
  },
  {
   "cell_type": "markdown",
   "id": "e820d4e3",
   "metadata": {
    "papermill": {
     "duration": 0.003653,
     "end_time": "2025-03-06T12:58:16.336523",
     "exception": false,
     "start_time": "2025-03-06T12:58:16.332870",
     "status": "completed"
    },
    "tags": []
   },
   "source": [
    "## Carga de datos"
   ]
  },
  {
   "cell_type": "code",
   "execution_count": 3,
   "id": "52e53d62",
   "metadata": {
    "execution": {
     "iopub.execute_input": "2025-03-06T12:58:16.345747Z",
     "iopub.status.busy": "2025-03-06T12:58:16.345350Z",
     "iopub.status.idle": "2025-03-06T12:58:16.417864Z",
     "shell.execute_reply": "2025-03-06T12:58:16.416783Z"
    },
    "papermill": {
     "duration": 0.079296,
     "end_time": "2025-03-06T12:58:16.419694",
     "exception": false,
     "start_time": "2025-03-06T12:58:16.340398",
     "status": "completed"
    },
    "tags": []
   },
   "outputs": [
    {
     "data": {
      "text/html": [
       "<div>\n",
       "<style scoped>\n",
       "    .dataframe tbody tr th:only-of-type {\n",
       "        vertical-align: middle;\n",
       "    }\n",
       "\n",
       "    .dataframe tbody tr th {\n",
       "        vertical-align: top;\n",
       "    }\n",
       "\n",
       "    .dataframe thead th {\n",
       "        text-align: right;\n",
       "    }\n",
       "</style>\n",
       "<table border=\"1\" class=\"dataframe\">\n",
       "  <thead>\n",
       "    <tr style=\"text-align: right;\">\n",
       "      <th></th>\n",
       "      <th>Brand</th>\n",
       "      <th>Model</th>\n",
       "      <th>Year</th>\n",
       "      <th>Engine_Size</th>\n",
       "      <th>Fuel_Type</th>\n",
       "      <th>Transmission</th>\n",
       "      <th>Mileage</th>\n",
       "      <th>Doors</th>\n",
       "      <th>Owner_Count</th>\n",
       "      <th>Price</th>\n",
       "    </tr>\n",
       "  </thead>\n",
       "  <tbody>\n",
       "    <tr>\n",
       "      <th>6252</th>\n",
       "      <td>BMW</td>\n",
       "      <td>3 Series</td>\n",
       "      <td>2005</td>\n",
       "      <td>1.2</td>\n",
       "      <td>Diesel</td>\n",
       "      <td>Manual</td>\n",
       "      <td>257760</td>\n",
       "      <td>5</td>\n",
       "      <td>5</td>\n",
       "      <td>2000</td>\n",
       "    </tr>\n",
       "    <tr>\n",
       "      <th>4684</th>\n",
       "      <td>Volkswagen</td>\n",
       "      <td>Golf</td>\n",
       "      <td>2013</td>\n",
       "      <td>2.9</td>\n",
       "      <td>Hybrid</td>\n",
       "      <td>Automatic</td>\n",
       "      <td>111790</td>\n",
       "      <td>5</td>\n",
       "      <td>3</td>\n",
       "      <td>11164</td>\n",
       "    </tr>\n",
       "    <tr>\n",
       "      <th>1731</th>\n",
       "      <td>Toyota</td>\n",
       "      <td>RAV4</td>\n",
       "      <td>2011</td>\n",
       "      <td>5.0</td>\n",
       "      <td>Hybrid</td>\n",
       "      <td>Automatic</td>\n",
       "      <td>13473</td>\n",
       "      <td>5</td>\n",
       "      <td>4</td>\n",
       "      <td>14630</td>\n",
       "    </tr>\n",
       "    <tr>\n",
       "      <th>4742</th>\n",
       "      <td>Mercedes</td>\n",
       "      <td>E-Class</td>\n",
       "      <td>2007</td>\n",
       "      <td>3.8</td>\n",
       "      <td>Diesel</td>\n",
       "      <td>Manual</td>\n",
       "      <td>133298</td>\n",
       "      <td>4</td>\n",
       "      <td>5</td>\n",
       "      <td>7334</td>\n",
       "    </tr>\n",
       "    <tr>\n",
       "      <th>4521</th>\n",
       "      <td>Honda</td>\n",
       "      <td>Civic</td>\n",
       "      <td>2012</td>\n",
       "      <td>1.3</td>\n",
       "      <td>Petrol</td>\n",
       "      <td>Automatic</td>\n",
       "      <td>18611</td>\n",
       "      <td>3</td>\n",
       "      <td>5</td>\n",
       "      <td>10127</td>\n",
       "    </tr>\n",
       "  </tbody>\n",
       "</table>\n",
       "</div>"
      ],
      "text/plain": [
       "           Brand     Model  Year  Engine_Size Fuel_Type Transmission  Mileage  \\\n",
       "6252         BMW  3 Series  2005          1.2    Diesel       Manual   257760   \n",
       "4684  Volkswagen      Golf  2013          2.9    Hybrid    Automatic   111790   \n",
       "1731      Toyota      RAV4  2011          5.0    Hybrid    Automatic    13473   \n",
       "4742    Mercedes   E-Class  2007          3.8    Diesel       Manual   133298   \n",
       "4521       Honda     Civic  2012          1.3    Petrol    Automatic    18611   \n",
       "\n",
       "      Doors  Owner_Count  Price  \n",
       "6252      5            5   2000  \n",
       "4684      5            3  11164  \n",
       "1731      5            4  14630  \n",
       "4742      4            5   7334  \n",
       "4521      3            5  10127  "
      ]
     },
     "execution_count": 3,
     "metadata": {},
     "output_type": "execute_result"
    }
   ],
   "source": [
    "df = pd.read_csv('/kaggle/input/car-price-dataset/car_price_dataset.csv')\n",
    "df.sample(5, random_state=SEED)"
   ]
  },
  {
   "cell_type": "code",
   "execution_count": 4,
   "id": "b15f842d",
   "metadata": {
    "execution": {
     "iopub.execute_input": "2025-03-06T12:58:16.429611Z",
     "iopub.status.busy": "2025-03-06T12:58:16.429215Z",
     "iopub.status.idle": "2025-03-06T12:58:16.454725Z",
     "shell.execute_reply": "2025-03-06T12:58:16.453368Z"
    },
    "papermill": {
     "duration": 0.032372,
     "end_time": "2025-03-06T12:58:16.456483",
     "exception": false,
     "start_time": "2025-03-06T12:58:16.424111",
     "status": "completed"
    },
    "tags": []
   },
   "outputs": [
    {
     "name": "stdout",
     "output_type": "stream",
     "text": [
      "<class 'pandas.core.frame.DataFrame'>\n",
      "RangeIndex: 10000 entries, 0 to 9999\n",
      "Data columns (total 10 columns):\n",
      " #   Column        Non-Null Count  Dtype  \n",
      "---  ------        --------------  -----  \n",
      " 0   Brand         10000 non-null  object \n",
      " 1   Model         10000 non-null  object \n",
      " 2   Year          10000 non-null  int64  \n",
      " 3   Engine_Size   10000 non-null  float64\n",
      " 4   Fuel_Type     10000 non-null  object \n",
      " 5   Transmission  10000 non-null  object \n",
      " 6   Mileage       10000 non-null  int64  \n",
      " 7   Doors         10000 non-null  int64  \n",
      " 8   Owner_Count   10000 non-null  int64  \n",
      " 9   Price         10000 non-null  int64  \n",
      "dtypes: float64(1), int64(5), object(4)\n",
      "memory usage: 781.4+ KB\n"
     ]
    }
   ],
   "source": [
    "df.info()"
   ]
  },
  {
   "cell_type": "code",
   "execution_count": 5,
   "id": "1d1b7b99",
   "metadata": {
    "execution": {
     "iopub.execute_input": "2025-03-06T12:58:16.466580Z",
     "iopub.status.busy": "2025-03-06T12:58:16.466185Z",
     "iopub.status.idle": "2025-03-06T12:58:16.495263Z",
     "shell.execute_reply": "2025-03-06T12:58:16.493927Z"
    },
    "papermill": {
     "duration": 0.03605,
     "end_time": "2025-03-06T12:58:16.497079",
     "exception": false,
     "start_time": "2025-03-06T12:58:16.461029",
     "status": "completed"
    },
    "tags": []
   },
   "outputs": [
    {
     "data": {
      "text/html": [
       "<div>\n",
       "<style scoped>\n",
       "    .dataframe tbody tr th:only-of-type {\n",
       "        vertical-align: middle;\n",
       "    }\n",
       "\n",
       "    .dataframe tbody tr th {\n",
       "        vertical-align: top;\n",
       "    }\n",
       "\n",
       "    .dataframe thead th {\n",
       "        text-align: right;\n",
       "    }\n",
       "</style>\n",
       "<table border=\"1\" class=\"dataframe\">\n",
       "  <thead>\n",
       "    <tr style=\"text-align: right;\">\n",
       "      <th></th>\n",
       "      <th>Year</th>\n",
       "      <th>Engine_Size</th>\n",
       "      <th>Mileage</th>\n",
       "      <th>Doors</th>\n",
       "      <th>Owner_Count</th>\n",
       "      <th>Price</th>\n",
       "    </tr>\n",
       "  </thead>\n",
       "  <tbody>\n",
       "    <tr>\n",
       "      <th>count</th>\n",
       "      <td>10000.000000</td>\n",
       "      <td>10000.000000</td>\n",
       "      <td>10000.000000</td>\n",
       "      <td>10000.000000</td>\n",
       "      <td>10000.000000</td>\n",
       "      <td>10000.00000</td>\n",
       "    </tr>\n",
       "    <tr>\n",
       "      <th>mean</th>\n",
       "      <td>2011.543700</td>\n",
       "      <td>3.000560</td>\n",
       "      <td>149239.111800</td>\n",
       "      <td>3.497100</td>\n",
       "      <td>2.991100</td>\n",
       "      <td>8852.96440</td>\n",
       "    </tr>\n",
       "    <tr>\n",
       "      <th>std</th>\n",
       "      <td>6.897699</td>\n",
       "      <td>1.149324</td>\n",
       "      <td>86322.348957</td>\n",
       "      <td>1.110097</td>\n",
       "      <td>1.422682</td>\n",
       "      <td>3112.59681</td>\n",
       "    </tr>\n",
       "    <tr>\n",
       "      <th>min</th>\n",
       "      <td>2000.000000</td>\n",
       "      <td>1.000000</td>\n",
       "      <td>25.000000</td>\n",
       "      <td>2.000000</td>\n",
       "      <td>1.000000</td>\n",
       "      <td>2000.00000</td>\n",
       "    </tr>\n",
       "    <tr>\n",
       "      <th>25%</th>\n",
       "      <td>2006.000000</td>\n",
       "      <td>2.000000</td>\n",
       "      <td>74649.250000</td>\n",
       "      <td>3.000000</td>\n",
       "      <td>2.000000</td>\n",
       "      <td>6646.00000</td>\n",
       "    </tr>\n",
       "    <tr>\n",
       "      <th>50%</th>\n",
       "      <td>2012.000000</td>\n",
       "      <td>3.000000</td>\n",
       "      <td>149587.000000</td>\n",
       "      <td>3.000000</td>\n",
       "      <td>3.000000</td>\n",
       "      <td>8858.50000</td>\n",
       "    </tr>\n",
       "    <tr>\n",
       "      <th>75%</th>\n",
       "      <td>2017.000000</td>\n",
       "      <td>4.000000</td>\n",
       "      <td>223577.500000</td>\n",
       "      <td>4.000000</td>\n",
       "      <td>4.000000</td>\n",
       "      <td>11086.50000</td>\n",
       "    </tr>\n",
       "    <tr>\n",
       "      <th>max</th>\n",
       "      <td>2023.000000</td>\n",
       "      <td>5.000000</td>\n",
       "      <td>299947.000000</td>\n",
       "      <td>5.000000</td>\n",
       "      <td>5.000000</td>\n",
       "      <td>18301.00000</td>\n",
       "    </tr>\n",
       "  </tbody>\n",
       "</table>\n",
       "</div>"
      ],
      "text/plain": [
       "               Year   Engine_Size        Mileage         Doors   Owner_Count  \\\n",
       "count  10000.000000  10000.000000   10000.000000  10000.000000  10000.000000   \n",
       "mean    2011.543700      3.000560  149239.111800      3.497100      2.991100   \n",
       "std        6.897699      1.149324   86322.348957      1.110097      1.422682   \n",
       "min     2000.000000      1.000000      25.000000      2.000000      1.000000   \n",
       "25%     2006.000000      2.000000   74649.250000      3.000000      2.000000   \n",
       "50%     2012.000000      3.000000  149587.000000      3.000000      3.000000   \n",
       "75%     2017.000000      4.000000  223577.500000      4.000000      4.000000   \n",
       "max     2023.000000      5.000000  299947.000000      5.000000      5.000000   \n",
       "\n",
       "             Price  \n",
       "count  10000.00000  \n",
       "mean    8852.96440  \n",
       "std     3112.59681  \n",
       "min     2000.00000  \n",
       "25%     6646.00000  \n",
       "50%     8858.50000  \n",
       "75%    11086.50000  \n",
       "max    18301.00000  "
      ]
     },
     "execution_count": 5,
     "metadata": {},
     "output_type": "execute_result"
    }
   ],
   "source": [
    "df.describe()"
   ]
  },
  {
   "cell_type": "markdown",
   "id": "f61f62f0",
   "metadata": {
    "papermill": {
     "duration": 0.004221,
     "end_time": "2025-03-06T12:58:16.506091",
     "exception": false,
     "start_time": "2025-03-06T12:58:16.501870",
     "status": "completed"
    },
    "tags": []
   },
   "source": [
    "- **Year** -> año de producción. El registro va desde el año 2000 hasta el 2023\n",
    "- **Engine_Size** -> tamaño del motor en Litros. Tenemos que ver si tratarla como variable numerica o categórica, ya que no es un valor continuo como tal.\n",
    "- **Mileage** -> millas/cuenta kilometros. La desviación estándar es muy alta y fijandonos en los valores max y min, confirmamos la disparidad entre coches muy usados y apenas sacados del garaje. Sin duda, sera una variable clave para determinar el precio.\n",
    "- **Doors** -> número de puertas. De 1 hasta 5 (el maletero cuenta como puerta). Vemos que la mitad de los registros (q50%) tiene 3 puertas, lo que indica que son modelos de coches compactos\n",
    "- **Owner_Count** -> número de propietarios. Desde 1 hasta 5, siendo 3 la media (habría que ver la moda)\n",
    "- **Price** -> es variable objetivo, no se indica tipo de moneda, así por simpleza lo denominaremos como \"unidades monetarias\""
   ]
  },
  {
   "cell_type": "code",
   "execution_count": 6,
   "id": "c832efbb",
   "metadata": {
    "execution": {
     "iopub.execute_input": "2025-03-06T12:58:16.516303Z",
     "iopub.status.busy": "2025-03-06T12:58:16.515921Z",
     "iopub.status.idle": "2025-03-06T12:58:16.524094Z",
     "shell.execute_reply": "2025-03-06T12:58:16.523182Z"
    },
    "papermill": {
     "duration": 0.015518,
     "end_time": "2025-03-06T12:58:16.526071",
     "exception": false,
     "start_time": "2025-03-06T12:58:16.510553",
     "status": "completed"
    },
    "tags": []
   },
   "outputs": [
    {
     "data": {
      "text/plain": [
       "array([4.2, 2. , 2.6, 2.7, 3.4, 4.7, 3.1, 1.3, 4.5, 4.8, 2.3, 2.4, 3.2,\n",
       "       2.9, 1.5, 1.8, 4.6, 2.8, 3.9, 3.3, 1.9, 3.5, 1.4, 2.2, 1. , 1.2,\n",
       "       4.9, 3.6, 3.8, 4. , 1.7, 1.6, 4.1, 1.1, 2.5, 3. , 5. , 2.1, 3.7,\n",
       "       4.3, 4.4])"
      ]
     },
     "execution_count": 6,
     "metadata": {},
     "output_type": "execute_result"
    }
   ],
   "source": [
    "df['Engine_Size'].unique()"
   ]
  },
  {
   "cell_type": "markdown",
   "id": "021f5ced",
   "metadata": {
    "papermill": {
     "duration": 0.00461,
     "end_time": "2025-03-06T12:58:16.535509",
     "exception": false,
     "start_time": "2025-03-06T12:58:16.530899",
     "status": "completed"
    },
    "tags": []
   },
   "source": [
    "Vemos que no son valores exactos por lo que podríamos discretizar la variable en el procesamiento y tratarla como categorica.\n",
    "\n",
    "**NOTA** Al reagrupar podemos los modelos lineales pueden discernir mejor"
   ]
  },
  {
   "cell_type": "code",
   "execution_count": 7,
   "id": "948d7f92",
   "metadata": {
    "execution": {
     "iopub.execute_input": "2025-03-06T12:58:16.546032Z",
     "iopub.status.busy": "2025-03-06T12:58:16.545667Z",
     "iopub.status.idle": "2025-03-06T12:58:16.554693Z",
     "shell.execute_reply": "2025-03-06T12:58:16.553815Z"
    },
    "papermill": {
     "duration": 0.016187,
     "end_time": "2025-03-06T12:58:16.556339",
     "exception": false,
     "start_time": "2025-03-06T12:58:16.540152",
     "status": "completed"
    },
    "tags": []
   },
   "outputs": [
    {
     "data": {
      "text/plain": [
       "Owner_Count\n",
       "5    2036\n",
       "1    2036\n",
       "2    2020\n",
       "3    1977\n",
       "4    1931\n",
       "Name: count, dtype: int64"
      ]
     },
     "execution_count": 7,
     "metadata": {},
     "output_type": "execute_result"
    }
   ],
   "source": [
    "df['Owner_Count'].value_counts()"
   ]
  },
  {
   "cell_type": "markdown",
   "id": "eb594ad9",
   "metadata": {
    "papermill": {
     "duration": 0.004322,
     "end_time": "2025-03-06T12:58:16.565517",
     "exception": false,
     "start_time": "2025-03-06T12:58:16.561195",
     "status": "completed"
    },
    "tags": []
   },
   "source": [
    "Tiene una distribución muy equilibrada, siendo lo más común los \"extremos\": o bien solo 1 propietario o bien 5"
   ]
  },
  {
   "cell_type": "code",
   "execution_count": 8,
   "id": "e00bf13b",
   "metadata": {
    "execution": {
     "iopub.execute_input": "2025-03-06T12:58:16.576001Z",
     "iopub.status.busy": "2025-03-06T12:58:16.575581Z",
     "iopub.status.idle": "2025-03-06T12:58:16.596156Z",
     "shell.execute_reply": "2025-03-06T12:58:16.595081Z"
    },
    "papermill": {
     "duration": 0.027951,
     "end_time": "2025-03-06T12:58:16.597999",
     "exception": false,
     "start_time": "2025-03-06T12:58:16.570048",
     "status": "completed"
    },
    "tags": []
   },
   "outputs": [
    {
     "data": {
      "text/html": [
       "<div>\n",
       "<style scoped>\n",
       "    .dataframe tbody tr th:only-of-type {\n",
       "        vertical-align: middle;\n",
       "    }\n",
       "\n",
       "    .dataframe tbody tr th {\n",
       "        vertical-align: top;\n",
       "    }\n",
       "\n",
       "    .dataframe thead th {\n",
       "        text-align: right;\n",
       "    }\n",
       "</style>\n",
       "<table border=\"1\" class=\"dataframe\">\n",
       "  <thead>\n",
       "    <tr style=\"text-align: right;\">\n",
       "      <th></th>\n",
       "      <th>Brand</th>\n",
       "      <th>Model</th>\n",
       "      <th>Fuel_Type</th>\n",
       "      <th>Transmission</th>\n",
       "    </tr>\n",
       "  </thead>\n",
       "  <tbody>\n",
       "    <tr>\n",
       "      <th>count</th>\n",
       "      <td>10000</td>\n",
       "      <td>10000</td>\n",
       "      <td>10000</td>\n",
       "      <td>10000</td>\n",
       "    </tr>\n",
       "    <tr>\n",
       "      <th>unique</th>\n",
       "      <td>10</td>\n",
       "      <td>30</td>\n",
       "      <td>4</td>\n",
       "      <td>3</td>\n",
       "    </tr>\n",
       "    <tr>\n",
       "      <th>top</th>\n",
       "      <td>Ford</td>\n",
       "      <td>Accord</td>\n",
       "      <td>Electric</td>\n",
       "      <td>Manual</td>\n",
       "    </tr>\n",
       "    <tr>\n",
       "      <th>freq</th>\n",
       "      <td>1048</td>\n",
       "      <td>365</td>\n",
       "      <td>2625</td>\n",
       "      <td>3372</td>\n",
       "    </tr>\n",
       "  </tbody>\n",
       "</table>\n",
       "</div>"
      ],
      "text/plain": [
       "        Brand   Model Fuel_Type Transmission\n",
       "count   10000   10000     10000        10000\n",
       "unique     10      30         4            3\n",
       "top      Ford  Accord  Electric       Manual\n",
       "freq     1048     365      2625         3372"
      ]
     },
     "execution_count": 8,
     "metadata": {},
     "output_type": "execute_result"
    }
   ],
   "source": [
    "df.describe(include=\"object\")"
   ]
  },
  {
   "cell_type": "markdown",
   "id": "7cf309fa",
   "metadata": {
    "papermill": {
     "duration": 0.005418,
     "end_time": "2025-03-06T12:58:16.608487",
     "exception": false,
     "start_time": "2025-03-06T12:58:16.603069",
     "status": "completed"
    },
    "tags": []
   },
   "source": [
    "De un primer vistazo vemos los valores únicos para cada variable, con las visualizaciones veremos mejor sus distribuciones. También podemos usar el método `value_counts` si no queremos crear gráficas. \n",
    "\n",
    "**NOTA** Estas variables las podemos tratar como `category` por su naturaleza."
   ]
  },
  {
   "cell_type": "code",
   "execution_count": 9,
   "id": "f94aa532",
   "metadata": {
    "execution": {
     "iopub.execute_input": "2025-03-06T12:58:16.620187Z",
     "iopub.status.busy": "2025-03-06T12:58:16.619820Z",
     "iopub.status.idle": "2025-03-06T12:58:16.634084Z",
     "shell.execute_reply": "2025-03-06T12:58:16.632960Z"
    },
    "papermill": {
     "duration": 0.022656,
     "end_time": "2025-03-06T12:58:16.635922",
     "exception": false,
     "start_time": "2025-03-06T12:58:16.613266",
     "status": "completed"
    },
    "tags": []
   },
   "outputs": [],
   "source": [
    "cat_cols = df.select_dtypes(include=\"object\").columns\n",
    "df[cat_cols] = df[cat_cols].astype('category')"
   ]
  },
  {
   "cell_type": "code",
   "execution_count": 10,
   "id": "d9597b4a",
   "metadata": {
    "execution": {
     "iopub.execute_input": "2025-03-06T12:58:16.647182Z",
     "iopub.status.busy": "2025-03-06T12:58:16.646844Z",
     "iopub.status.idle": "2025-03-06T12:58:16.655580Z",
     "shell.execute_reply": "2025-03-06T12:58:16.654593Z"
    },
    "papermill": {
     "duration": 0.016312,
     "end_time": "2025-03-06T12:58:16.657327",
     "exception": false,
     "start_time": "2025-03-06T12:58:16.641015",
     "status": "completed"
    },
    "tags": []
   },
   "outputs": [
    {
     "data": {
      "text/plain": [
       "Brand           0.0\n",
       "Model           0.0\n",
       "Year            0.0\n",
       "Engine_Size     0.0\n",
       "Fuel_Type       0.0\n",
       "Transmission    0.0\n",
       "Mileage         0.0\n",
       "Doors           0.0\n",
       "Owner_Count     0.0\n",
       "Price           0.0\n",
       "dtype: float64"
      ]
     },
     "execution_count": 10,
     "metadata": {},
     "output_type": "execute_result"
    }
   ],
   "source": [
    "df.isna().sum() / df.shape[0]"
   ]
  },
  {
   "cell_type": "code",
   "execution_count": 11,
   "id": "1913130d",
   "metadata": {
    "execution": {
     "iopub.execute_input": "2025-03-06T12:58:16.669185Z",
     "iopub.status.busy": "2025-03-06T12:58:16.668807Z",
     "iopub.status.idle": "2025-03-06T12:58:16.679643Z",
     "shell.execute_reply": "2025-03-06T12:58:16.678589Z"
    },
    "papermill": {
     "duration": 0.018796,
     "end_time": "2025-03-06T12:58:16.681440",
     "exception": false,
     "start_time": "2025-03-06T12:58:16.662644",
     "status": "completed"
    },
    "tags": []
   },
   "outputs": [
    {
     "data": {
      "text/plain": [
       "0"
      ]
     },
     "execution_count": 11,
     "metadata": {},
     "output_type": "execute_result"
    }
   ],
   "source": [
    "df.duplicated().sum()"
   ]
  },
  {
   "cell_type": "markdown",
   "id": "fafece49",
   "metadata": {
    "papermill": {
     "duration": 0.004778,
     "end_time": "2025-03-06T12:58:16.691410",
     "exception": false,
     "start_time": "2025-03-06T12:58:16.686632",
     "status": "completed"
    },
    "tags": []
   },
   "source": [
    "No hay valores perdidos ni tampoco duplicados, por lo que no será necesario realizar utilizar técnicas complejas en el procesamiento de los datos"
   ]
  },
  {
   "cell_type": "markdown",
   "id": "17831d14",
   "metadata": {
    "papermill": {
     "duration": 0.004681,
     "end_time": "2025-03-06T12:58:16.701206",
     "exception": false,
     "start_time": "2025-03-06T12:58:16.696525",
     "status": "completed"
    },
    "tags": []
   },
   "source": [
    "## Visualización de los datos"
   ]
  },
  {
   "cell_type": "code",
   "execution_count": null,
   "id": "26985dad",
   "metadata": {
    "papermill": {
     "duration": 0.004684,
     "end_time": "2025-03-06T12:58:16.710952",
     "exception": false,
     "start_time": "2025-03-06T12:58:16.706268",
     "status": "completed"
    },
    "tags": []
   },
   "outputs": [],
   "source": []
  }
 ],
 "metadata": {
  "kaggle": {
   "accelerator": "none",
   "dataSources": [
    {
     "datasetId": 6552734,
     "sourceId": 10587923,
     "sourceType": "datasetVersion"
    }
   ],
   "dockerImageVersionId": 30918,
   "isGpuEnabled": false,
   "isInternetEnabled": true,
   "language": "python",
   "sourceType": "notebook"
  },
  "kernelspec": {
   "display_name": "Python 3",
   "language": "python",
   "name": "python3"
  },
  "language_info": {
   "codemirror_mode": {
    "name": "ipython",
    "version": 3
   },
   "file_extension": ".py",
   "mimetype": "text/x-python",
   "name": "python",
   "nbconvert_exporter": "python",
   "pygments_lexer": "ipython3",
   "version": "3.10.12"
  },
  "papermill": {
   "default_parameters": {},
   "duration": 5.968105,
   "end_time": "2025-03-06T12:58:17.335873",
   "environment_variables": {},
   "exception": null,
   "input_path": "__notebook__.ipynb",
   "output_path": "__notebook__.ipynb",
   "parameters": {},
   "start_time": "2025-03-06T12:58:11.367768",
   "version": "2.6.0"
  }
 },
 "nbformat": 4,
 "nbformat_minor": 5
}
